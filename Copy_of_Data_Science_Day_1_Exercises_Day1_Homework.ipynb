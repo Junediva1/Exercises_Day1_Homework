{
 "cells": [
  {
   "cell_type": "markdown",
   "metadata": {
    "id": "KdERlTpFuL5V"
   },
   "source": [
    "# Exercises"
   ]
  },
  {
   "cell_type": "markdown",
   "metadata": {
    "id": "to-gsrQyuL5Z"
   },
   "source": [
    "### #1 - Calculate the BMI (body mass index) on the two lists below using NDArrays..."
   ]
  },
  {
   "cell_type": "code",
   "execution_count": 6,
   "metadata": {
    "id": "iZlf9DzeuL5a"
   },
   "outputs": [
    {
     "name": "stdout",
     "output_type": "stream",
     "text": [
      "BMI values: [16.86620458 17.87755102 18.82562984 19.71450617 20.54794521 21.32943755\n",
      " 22.06222222]\n"
     ]
    }
   ],
   "source": [
    "# formula = weight / (height**2) * 730\n",
    "\n",
    "import numpy as np\n",
    "weights = np.array([110, 120, 130, 140, 150, 160, 170])  # in kilograms\n",
    "heights = np.array([69, 70, 71, 72, 73, 74, 75])  # in meters\n",
    "\n",
    "bmi_values = weights / (heights**2) * 730\n",
    "\n",
    "print(\"BMI values:\", bmi_values)"
   ]
  },
  {
   "cell_type": "markdown",
   "metadata": {
    "id": "RSsT8w8ouL5b"
   },
   "source": [
    "### #2 - Create a function that will take in two parameters and will create a random matrix based off of those parameters. Extra: Have additional parameters taken in that allow the user to choose the shape and data type of the matrix."
   ]
  },
  {
   "cell_type": "code",
   "execution_count": 1,
   "metadata": {
    "id": "ygFvj0aeuL5b"
   },
   "outputs": [
    {
     "name": "stdout",
     "output_type": "stream",
     "text": [
      "Random Matrix:\n",
      "[[0.53458269 0.59674012 0.4430897  0.26315899 0.92145387]\n",
      " [0.53174158 0.12997294 0.95009604 0.18836225 0.2376219 ]\n",
      " [0.09192275 0.00310626 0.83642673 0.75805463 0.09466537]\n",
      " [0.87108069 0.91863561 0.08254144 0.90934202 0.46121737]]\n",
      "\n",
      "Zeros Matrix:\n",
      "[[0 0 0 0 0]\n",
      " [0 0 0 0 0]\n",
      " [0 0 0 0 0]\n",
      " [0 0 0 0 0]]\n",
      "\n",
      "Ones Matrix:\n",
      "[[1. 1. 1. 1. 1.]\n",
      " [1. 1. 1. 1. 1.]\n",
      " [1. 1. 1. 1. 1.]\n",
      " [1. 1. 1. 1. 1.]]\n"
     ]
    }
   ],
   "source": [
    "import numpy as np\n",
    "\n",
    "def create_random_matrix(rows, columns, shape='random', dtype=float):\n",
    "    \"\"\"\n",
    "    Create a random matrix based on the given parameters.\n",
    "\n",
    "    Parameters:\n",
    "    - rows: Number of rows in the matrix.\n",
    "    - columns: Number of columns in the matrix.\n",
    "    - shape: (Optional) Shape of the matrix. Default is 'random'. Other options include 'zeros' and 'ones'.\n",
    "    - dtype: (Optional) Data type of the matrix. Default is float.\n",
    "\n",
    "    Returns:\n",
    "    - A NumPy array representing the random matrix.\n",
    "    \"\"\"\n",
    "\n",
    "    if shape == 'random':\n",
    "        matrix = np.random.rand(rows, columns)\n",
    "    elif shape == 'zeros':\n",
    "        matrix = np.zeros((rows, columns), dtype=dtype)\n",
    "    elif shape == 'ones':\n",
    "        matrix = np.ones((rows, columns), dtype=dtype)\n",
    "    else:\n",
    "        raise ValueError(\"Invalid shape. Supported shapes are 'random', 'zeros', and 'ones'.\")\n",
    "\n",
    "    return matrix.astype(dtype)\n",
    "\n",
    "# Example usage:\n",
    "rows = 4\n",
    "columns = 5 \n",
    "random_matrix = create_random_matrix(rows, columns)\n",
    "print(\"Random Matrix:\")\n",
    "print(random_matrix)\n",
    "\n",
    "zeros_matrix = create_random_matrix(rows, columns, shape='zeros', dtype=int)\n",
    "print(\"\\nZeros Matrix:\")\n",
    "print(zeros_matrix)\n",
    "\n",
    "ones_matrix = create_random_matrix(rows, columns, shape='ones', dtype=float)\n",
    "print(\"\\nOnes Matrix:\")\n",
    "print(ones_matrix)\n",
    "\n",
    "\n"
   ]
  },
  {
   "cell_type": "markdown",
   "metadata": {
    "id": "e5mP1UX9uL5c"
   },
   "source": [
    "### #3 - Extra: Open and load the data in the two text files that have the Boston Red Sox hitting data for the past seasons. Compare the difference in the two years by putting the data into an NDArray and running a differencial operation on it. The column to look for will be SLG.\n",
    "\n",
    "Your output should display which year (either 2017 or 2018) was a better year based on SLG"
   ]
  },
  {
   "cell_type": "code",
   "execution_count": 6,
   "metadata": {
    "id": "iAExC-SjuL5c"
   },
   "outputs": [],
   "source": [
    "import csv\n",
    "import numpy as np\n",
    "\n"
   ]
  },
  {
   "cell_type": "code",
   "execution_count": null,
   "metadata": {
    "id": "P8Rwr8lmuL5e"
   },
   "outputs": [],
   "source": [
    "FIELDS = ['Rk', 'Pos', 'Name', 'Age', 'G', 'PA', 'AB', 'R', 'H', '2B', '3B', 'HR', 'RBI', 'SB', 'CS', \n",
    "          'BB', 'SO', 'BA', 'OBP', 'SLG', 'OPS', 'OPS+', 'TB', 'GDP', 'HBP', 'SH', 'SF', 'IBB']\n",
    "\n",
    "DATATYPES = [('rk', 'i'), ('pos', '|S25'), ('name', '|S25'), ('age', 'i'), ('g', 'i'), ('pa', 'i'), ('ab', 'i'),\n",
    "                ('r', 'i'), ('h', 'i'), ('2b', 'i'), ('3b', 'i'), ('hr', 'i'), ('rbi', 'i'), ('sb', 'i'), ('cs', 'i'),\n",
    "                ('bb', 'i'), ('so', 'i'), ('ba', 'f'), ('obp', 'f'), ('slg', 'f'), ('ops', 'f'), ('opsp', 'i'),\n",
    "                ('tb', 'i'), ('gdp', 'i'), ('hbp', 'i'), ('sh', 'i'), ('sf', 'i'), ('ibb', 'i')]\n",
    "\n",
    "#Use this function to actually open the data inside of a NDArray\n",
    "\n",
    "\n"
   ]
  }
 ],
 "metadata": {
  "colab": {
   "name": "Copy of Data_Science_Day_1_Exercises-Day1- Homework.ipynb",
   "provenance": []
  },
  "kernelspec": {
   "display_name": "Python 3 (ipykernel)",
   "language": "python",
   "name": "python3"
  },
  "language_info": {
   "codemirror_mode": {
    "name": "ipython",
    "version": 3
   },
   "file_extension": ".py",
   "mimetype": "text/x-python",
   "name": "python",
   "nbconvert_exporter": "python",
   "pygments_lexer": "ipython3",
   "version": "3.11.5"
  }
 },
 "nbformat": 4,
 "nbformat_minor": 1
}
